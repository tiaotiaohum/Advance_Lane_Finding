{
 "cells": [
  {
   "cell_type": "markdown",
   "metadata": {},
   "source": [
    "# Advanced Lane Finding Project\n",
    "\n",
    "The goals / steps of this project are the following:\n",
    "\n",
    "* Compute the camera calibration matrix and distortion coefficients given a set of chessboard images.\n",
    "* Apply a distortion correction to raw images.\n",
    "* Use color transforms, gradients, etc., to create a thresholded binary image.\n",
    "* Apply a perspective transform to rectify binary image (\"birds-eye view\").\n",
    "* Detect lane pixels and fit to find the lane boundary.\n",
    "* Determine the curvature of the lane and vehicle position with respect to center.\n",
    "* Warp the detected lane boundaries back onto the original image.\n",
    "* Output visual display of the lane boundaries and numerical estimation of lane curvature and vehicle position."
   ]
  },
  {
   "cell_type": "code",
   "execution_count": 51,
   "metadata": {},
   "outputs": [],
   "source": [
    "import numpy as np\n",
    "import cv2\n",
    "import matplotlib.pyplot as plt\n",
    "import matplotlib.image as mpimg\n",
    "import pickle\n",
    "import glob\n",
    "import os\n",
    "%matplotlib inline"
   ]
  },
  {
   "cell_type": "markdown",
   "metadata": {},
   "source": [
    "## Image Preprocessing"
   ]
  },
  {
   "cell_type": "markdown",
   "metadata": {},
   "source": [
    "### Camera Calibration using chessboard images"
   ]
  },
  {
   "cell_type": "markdown",
   "metadata": {},
   "source": [
    "#### Define the calibration function\n",
    "* find corners\n",
    "* draw corners\n",
    "* output object points and image points as file"
   ]
  },
  {
   "cell_type": "code",
   "execution_count": 52,
   "metadata": {},
   "outputs": [],
   "source": [
    "dir_source=\"camera_cal\"\n",
    "dir_desti=\"output_images\"\n",
    "dir_test = \"test_images\""
   ]
  },
  {
   "cell_type": "code",
   "execution_count": 53,
   "metadata": {},
   "outputs": [],
   "source": [
    "def camera_calibration(nx=9, ny=6, dir_source=\"camera_cal\", dir_desti=\"output_images\"):\n",
    "    \n",
    "    # prepare object points\n",
    "    nx = nx # the number of inside corners in x\n",
    "    ny = ny # the number of inside corners in y\n",
    "    \n",
    "    # prepare object points, like (0,0,0), (1,0,0), (2,0,0) ....,(6,5,0)\n",
    "    objp = np.zeros((ny*nx,3), np.float32)\n",
    "    objp[:,:2] = np.mgrid[0:nx, 0:ny].T.reshape(-1,2)\n",
    "\n",
    "    # Arrays to store object points and image points from all the images.\n",
    "    objpoints = [] # 3d points in real world space\n",
    "    imgpoints = [] # 2d points in image plane.\n",
    "\n",
    "    # Make a list of calibration images\n",
    "    images = glob.glob(dir_source+'/'+'calibration*.jpg')\n",
    "\n",
    "    # Step through the list and search for chessboard corners\n",
    "    for idx, fname in enumerate(images):\n",
    "        img = cv2.imread(fname)\n",
    "#         plt.imshow(img)\n",
    "        gray = cv2.cvtColor(img, cv2.COLOR_BGR2GRAY)\n",
    "\n",
    "        # Find the chessboard corners\n",
    "        ret, corners = cv2.findChessboardCorners(gray, (nx,ny), None)\n",
    "\n",
    "        # If found, add object points, image points\n",
    "        if ret == True:\n",
    "            objpoints.append(objp)\n",
    "            imgpoints.append(corners)\n",
    "\n",
    "            # Draw and display the corners\n",
    "            cv2.drawChessboardCorners(img, (nx,ny), corners, ret)\n",
    "            write_name = dir_desti+'/'+'corners_found'+str(idx+1)+'.jpg'\n",
    "            cv2.imwrite(write_name, img)\n",
    "#             plt.imshow(img)\n",
    "#             cv2.waitKey(500)\n",
    "\n",
    "#     cv2.destroyAllWindows()\n",
    "    fullpath = dir_source+'/'+'calibration3.jpg'\n",
    "    img = cv2.imread(fullpath)\n",
    "    img_size = (img.shape[1], img.shape[0])\n",
    "    \n",
    "    # Do camera calibration given object points and image points\n",
    "    ret, mtx, dist, rvecs, tvecs = cv2.calibrateCamera(objpoints, imgpoints, img_size, None,None)\n",
    "\n",
    "    # Save the camera calibration result for later use (we won't worry about rvecs / tvecs)\n",
    "    dist_pickle = {}\n",
    "    dist_pickle[\"mtx\"] = mtx\n",
    "    dist_pickle[\"dist\"] = dist\n",
    "    aim_file = open(dir_source+\"/wide_dist_pickle.p\", \"wb\")\n",
    "    pickle.dump( dist_pickle, aim_file)\n",
    "    aim_file.close()\n",
    "\n",
    "        #dst = cv2.cvtColor(dst, cv2.COLOR_BGR2RGB)\n",
    "    "
   ]
  },
  {
   "cell_type": "code",
   "execution_count": 54,
   "metadata": {},
   "outputs": [],
   "source": [
    "# Conduct calibration process\n",
    "def test_camera_calibration():\n",
    "    camera_calibration()"
   ]
  },
  {
   "cell_type": "markdown",
   "metadata": {},
   "source": [
    "#### Define function for distortion process\n",
    "* read in the save obj and img points\n",
    "* process undistortion\n",
    "* visualization the results\n",
    "* save the results in files"
   ]
  },
  {
   "cell_type": "code",
   "execution_count": 55,
   "metadata": {},
   "outputs": [],
   "source": [
    "def undistortion_conduct(dir_source=\"camera_cal\", dir_desti=\"output_images\"):\n",
    "    # Step through the list and search for chessboard corners\n",
    "    pickle_file = open('camera_cal/wide_dist_pickle.p', 'rb')\n",
    "    dist_pickle=pickle.load(pickle_file)\n",
    "    pickle_file.close()\n",
    "    mtx = dist_pickle[\"mtx\"]\n",
    "    dist = dist_pickle[\"dist\"]\n",
    "    if dir_source == \"camera_cal\":\n",
    "        images = glob.glob(dir_source+'/'+'calibration*.jpg')\n",
    "        for idx, fname in enumerate(images):\n",
    "            img = cv2.imread(fname)\n",
    "            dst = cv2.undistort(img, mtx, dist, None, mtx)\n",
    "            cv2.imwrite(dir_desti+'/'+'unstored'+str(idx+1)+'_undistort.jpg',dst)\n",
    "            # Visualize undistortion comparison\n",
    "            f, (ax1, ax2) = plt.subplots(1, 2, figsize=(20,10))\n",
    "            ax1.imshow(img)\n",
    "            ax1.set_title('Original Image', fontsize=30)\n",
    "            ax2.imshow(dst)\n",
    "            ax2.set_title('Undistorted Image', fontsize=30)\n",
    "            plt.savefig(dir_desti+'/'+fname[-16:-4]+'_compar_ori_undist.jpg')\n",
    "    else:\n",
    "        img = cv2.imread(dir_source)\n",
    "#         plt.imshow(img)\n",
    "        dst = cv2.undistort(img, mtx, dist, None, mtx)\n",
    "        cv2.imwrite(dir_desti+'/'+dir_source[-9:-4]+'_undistort.jpg',dst)\n",
    "        # Visualize undistortion comparison\n",
    "        f, (ax1, ax2) = plt.subplots(1, 2, figsize=(20,10))\n",
    "        ax1.imshow(cv2.cvtColor(img, cv2.COLOR_BGR2RGB))\n",
    "        ax1.set_title('Original Image', fontsize=30)\n",
    "        ax2.imshow(cv2.cvtColor(dst, cv2.COLOR_BGR2RGB))\n",
    "        ax2.set_title('Undistorted Image', fontsize=30)\n",
    "        plt.savefig(dir_desti+'/'+dir_source[-9:-4]+'_compar_ori_undist.jpg')"
   ]
  },
  {
   "cell_type": "code",
   "execution_count": 56,
   "metadata": {
    "scrolled": true
   },
   "outputs": [],
   "source": [
    "# Conduct undistortion process on all images\n",
    "def test_undistortion_conduct_chess():\n",
    "    undistortion_conduct()"
   ]
  },
  {
   "cell_type": "code",
   "execution_count": 57,
   "metadata": {
    "scrolled": true
   },
   "outputs": [],
   "source": [
    "def test_undistortion_conduct_real_pic():\n",
    "    undistortion_conduct(dir_source=dir_test+'/straight_lines2.jpg')\n"
   ]
  },
  {
   "cell_type": "markdown",
   "metadata": {},
   "source": [
    "### Use Threshhold to Creat Binary Image"
   ]
  },
  {
   "cell_type": "markdown",
   "metadata": {},
   "source": [
    "#### Investigate different color channels"
   ]
  },
  {
   "cell_type": "markdown",
   "metadata": {},
   "source": [
    "#### Investigate the different sobel applicaion"
   ]
  },
  {
   "cell_type": "code",
   "execution_count": 58,
   "metadata": {
    "scrolled": false
   },
   "outputs": [],
   "source": [
    "# absolute gradient\n",
    "def abs_sobel_thresh(img, orient='x', sobel_kernel=3, thresh_min=20, thresh_max=100):\n",
    "    \n",
    "    # Apply the following steps to img\n",
    "    # 1) Convert to grayscale\n",
    "    gray = cv2.cvtColor(img, cv2.COLOR_RGB2GRAY)\n",
    "    # 2) Take the derivative in x or y given orient = 'x' or 'y'\n",
    "    if orient == 'x':\n",
    "        sobel = cv2.Sobel(gray, cv2.CV_64F, 1, 0, ksize=sobel_kernel)\n",
    "    elif orient == 'y':\n",
    "        sobel = cv2.Sobel(gray, cv2.CV_64F, 0, 1, ksize=sobel_kernel)\n",
    "    else:\n",
    "        print(\"the inputed orient is not valid\")\n",
    "    # 3) Take the absolute value of the derivative or gradient\n",
    "    abs_sobel = np.absolute(sobel)\n",
    "    # 4) Scale to 8-bit (0 - 255) then convert to type = np.uint8\n",
    "    scaled_sobel = np.uint8(255*abs_sobel/np.max(abs_sobel))\n",
    "    # 5) Create a mask of 1's where the scaled gradient magnitude \n",
    "            # is > thresh_min and < thresh_max\n",
    "    sxbinary = np.zeros_like(scaled_sobel)\n",
    "    sxbinary[(scaled_sobel>=thresh_min)&(scaled_sobel<=thresh_max)]=1\n",
    "    # 6) Return this mask as your binary_output image\n",
    "    return sxbinary\n",
    "\n",
    "# direction of the gradient and applies a threshold.\n",
    "def dir_threshold(img, sobel_kernel=15, thresh=(0.7, 1.3)):\n",
    "    \n",
    "    # Apply the following steps to img\n",
    "    # 1) Convert to grayscale\n",
    "    gray = cv2.cvtColor(img, cv2.COLOR_RGB2GRAY)\n",
    "    # 2) Take the gradient in x and y separately\n",
    "    sobelx = cv2.Sobel(gray, cv2.CV_64F, 1, 0, ksize=sobel_kernel)\n",
    "    sobely = cv2.Sobel(gray, cv2.CV_64F, 0, 1, ksize=sobel_kernel)\n",
    "    # 3) Take the absolute value of the x and y gradients\n",
    "    sobelx_abs = np.absolute(sobelx)\n",
    "    sobely_abs = np.absolute(sobely)\n",
    "    # 4) Use np.arctan2(abs_sobely, abs_sobelx) to calculate the direction of the gradient \n",
    "    dire_gradient = np.arctan2(sobely_abs, sobelx_abs)\n",
    "    # 5) Create a binary mask where direction thresholds are met\n",
    "    binary_output = np.zeros_like(dire_gradient)\n",
    "    binary_output[(dire_gradient >= thresh[0]) & \\\n",
    "                    (dire_gradient <= thresh[1])] = 1\n",
    "    # 6) Return this mask as the binary_output image\n",
    "    return binary_output\n",
    "\n",
    "# Magnitude of the gradient\n",
    "def mag_thresh(img, sobel_kernel=3, mag_thresh=(30, 100)):\n",
    "    # Convert to grayscale\n",
    "    gray = cv2.cvtColor(img, cv2.COLOR_RGB2GRAY)\n",
    "    # Take both Sobel x and y gradients\n",
    "    sobelx = cv2.Sobel(gray, cv2.CV_64F, 1, 0, ksize=sobel_kernel)\n",
    "    sobely = cv2.Sobel(gray, cv2.CV_64F, 0, 1, ksize=sobel_kernel)\n",
    "    # Calculate the gradient magnitude\n",
    "    gradmag = np.sqrt(sobelx**2 + sobely**2)\n",
    "    # Rescale to 8 bit\n",
    "    scale_factor = np.max(gradmag)/255 \n",
    "    gradmag = (gradmag/scale_factor).astype(np.uint8) \n",
    "    # Create a binary image of ones where threshold is met, zeros otherwise\n",
    "    binary_output = np.zeros_like(gradmag)\n",
    "    binary_output[(gradmag >= mag_thresh[0]) & (gradmag <= mag_thresh[1])] = 1\n",
    "\n",
    "    # Return the binary image\n",
    "    return binary_output\n",
    "\n"
   ]
  },
  {
   "cell_type": "markdown",
   "metadata": {},
   "source": [
    "#### Test the Absolute Sobel threshhold"
   ]
  },
  {
   "cell_type": "code",
   "execution_count": 59,
   "metadata": {
    "scrolled": true
   },
   "outputs": [],
   "source": [
    "def test_abs_sobel_thresh_x():\n",
    "    # Test for x\n",
    "    # Choose a Sobel kernel size\n",
    "    ksize = 3 # Choose a larger odd number to smooth gradient measurements\n",
    "    # Choose a image\n",
    "\n",
    "    image = mpimg.imread('test_images/test5_undistort.jpg')\n",
    "\n",
    "    # Apply each of the thresholding functions\n",
    "    gradx = abs_sobel_thresh(image, orient='x', sobel_kernel=ksize, thresh_min=15, thresh_max=90)\n",
    "    # 20, 100\n",
    "\n",
    "    # Plot the result\n",
    "    f, (ax1, ax2) = plt.subplots(1, 2, figsize=(24, 9))\n",
    "    f.tight_layout()\n",
    "    ax1.imshow(image)\n",
    "    ax1.set_title('Original Image', fontsize=50)\n",
    "    ax2.imshow(gradx, cmap='gray')\n",
    "    ax2.set_title('Thresholded Grad. abs_x', fontsize=50)\n",
    "    plt.subplots_adjust(left=0., right=1, top=0.9, bottom=0.)"
   ]
  },
  {
   "cell_type": "code",
   "execution_count": 60,
   "metadata": {
    "scrolled": true
   },
   "outputs": [],
   "source": [
    "def test_abs_sobel_thresh_y():\n",
    "    # Test for y\n",
    "    # Choose a Sobel kernel size\n",
    "    ksize = 3 # Choose a larger odd number to smooth gradient measurements\n",
    "    # Choose a image\n",
    "\n",
    "    image = mpimg.imread('test_images/test5_undistort.jpg')\n",
    "\n",
    "    # Apply each of the thresholding functions\n",
    "    grady = abs_sobel_thresh(image, orient='y', sobel_kernel=ksize, thresh_min=20, thresh_max=100)\n",
    "\n",
    "    # Plot the result\n",
    "    f, (ax1, ax2) = plt.subplots(1, 2, figsize=(24, 9))\n",
    "    f.tight_layout()\n",
    "    ax1.imshow(image)\n",
    "    ax1.set_title('Original Image', fontsize=50)\n",
    "    ax2.imshow(grady, cmap='gray')\n",
    "    ax2.set_title('Thresholded Grad. abs_y', fontsize=50)\n",
    "    plt.subplots_adjust(left=0., right=1, top=0.9, bottom=0.)"
   ]
  },
  {
   "cell_type": "markdown",
   "metadata": {},
   "source": [
    "#### Test the Magnitude Sobel threshhold"
   ]
  },
  {
   "cell_type": "code",
   "execution_count": 61,
   "metadata": {},
   "outputs": [],
   "source": [
    "def test_mag_thresh():\n",
    "    # Choose a Sobel kernel size\n",
    "    ksize = 3 # Choose a larger odd number to smooth gradient measurements\n",
    "    # Choose a image\n",
    "\n",
    "    image = mpimg.imread('test_images/test5_undistort.jpg')\n",
    "\n",
    "    # Apply each of the thresholding functions\n",
    "    mag_binary = mag_thresh(image, sobel_kernel=ksize, mag_thresh=(30, 100))\n",
    "    # 30, 100\n",
    "    # Plot the result\n",
    "    f, (ax1, ax2) = plt.subplots(1, 2, figsize=(24, 9))\n",
    "    f.tight_layout()\n",
    "    ax1.imshow(image)\n",
    "    ax1.set_title('Original Image', fontsize=50)\n",
    "    ax2.imshow(combined, cmap='gray')\n",
    "    ax2.set_title('Thresholded Grad. Magni.', fontsize=50)\n",
    "    plt.subplots_adjust(left=0., right=1, top=0.9, bottom=0.)"
   ]
  },
  {
   "cell_type": "markdown",
   "metadata": {},
   "source": [
    "#### Test the direction Sobel threshhold"
   ]
  },
  {
   "cell_type": "code",
   "execution_count": 62,
   "metadata": {
    "scrolled": false
   },
   "outputs": [],
   "source": [
    "def test_dir_threshold():\n",
    "    # Choose a Sobel kernel size\n",
    "    ksize = 3 # Choose a larger odd number to smooth gradient measurements\n",
    "    # Choose a image\n",
    "\n",
    "    image = mpimg.imread('test_images/test5_undistort.jpg')\n",
    "\n",
    "    # Apply each of the thresholding functions\n",
    "    dir_binary = dir_threshold(image, sobel_kernel=ksize, thresh=(0.7, 1.3))    # 0.7, 1.3\n",
    "\n",
    "    # Plot the result\n",
    "    f, (ax1, ax2) = plt.subplots(1, 2, figsize=(24, 9))\n",
    "    f.tight_layout()\n",
    "    ax1.imshow(image)\n",
    "    ax1.set_title('Original Image', fontsize=50)\n",
    "    ax2.imshow(dir_binary, cmap='gray')\n",
    "    ax2.set_title('Thresholded Grad. Dire.', fontsize=50)\n",
    "    plt.subplots_adjust(left=0., right=1, top=0.9, bottom=0.)"
   ]
  },
  {
   "cell_type": "markdown",
   "metadata": {},
   "source": [
    "#### Test the combined Sobel threshhold"
   ]
  },
  {
   "cell_type": "code",
   "execution_count": 63,
   "metadata": {},
   "outputs": [],
   "source": [
    "def test_combined_thresh_complex():\n",
    "    # Choose a Sobel kernel size\n",
    "    ksize = 3 # Choose a larger odd number to smooth gradient measurements\n",
    "    # Choose a image\n",
    "\n",
    "    image = mpimg.imread('test_images/test5_undistort.jpg')\n",
    "\n",
    "    # Apply each of the thresholding functions\n",
    "    gradx = abs_sobel_thresh(image, orient='x', sobel_kernel=ksize, thresh_min=20, thresh_max=100)\n",
    "    grady = abs_sobel_thresh(image, orient='y', sobel_kernel=ksize, thresh_min=20, thresh_max=100)\n",
    "    mag_binary = mag_thresh(image, sobel_kernel=ksize, mag_thresh=(30, 100))   # 30, 100\n",
    "    dir_binary = dir_threshold(image, sobel_kernel=ksize, thresh=(0.7, 1.3))    # 0.7, 1.3\n",
    "\n",
    "    combined = np.zeros_like(dir_binary)\n",
    "    combined[((gradx == 1) & (grady == 1)) | ((mag_binary == 1) & (dir_binary == 1))] = 1\n",
    "\n",
    "    # Plot the result\n",
    "    f, (ax1, ax2) = plt.subplots(1, 2, figsize=(24, 9))\n",
    "    f.tight_layout()\n",
    "    ax1.imshow(image)\n",
    "    ax1.set_title('Original Image', fontsize=50)\n",
    "    ax2.imshow(combined, cmap='gray')\n",
    "    ax2.set_title('Thresholded Grad. Combi1.', fontsize=50)\n",
    "    plt.subplots_adjust(left=0., right=1, top=0.9, bottom=0.)"
   ]
  },
  {
   "cell_type": "code",
   "execution_count": 64,
   "metadata": {},
   "outputs": [],
   "source": [
    "def test_combined_thresh_simple():\n",
    "    # Choose a Sobel kernel size\n",
    "    ksize = 3 # Choose a larger odd number to smooth gradient measurements\n",
    "    # Choose a image\n",
    "\n",
    "    image = mpimg.imread('test_images/test5_undistort.jpg')\n",
    "\n",
    "    # Apply each of the thresholding functions\n",
    "    gradx = abs_sobel_thresh(image, orient='x', sobel_kernel=ksize, thresh_min=20, thresh_max=100)\n",
    "    grady = abs_sobel_thresh(image, orient='y', sobel_kernel=ksize, thresh_min=20, thresh_max=100)\n",
    "    mag_binary = mag_thresh(image, sobel_kernel=ksize, mag_thresh=(30, 100))   # 30, 100\n",
    "    dir_binary = dir_threshold(image, sobel_kernel=ksize, thresh=(0.7, 1.3))    # 0.7, 1.3\n",
    "\n",
    "    combined = np.zeros_like(dir_binary)\n",
    "    # combined[((gradx == 1) & (dir_binary == 1)) | ((grady == 1) & (mag_binary == 1) )] = 1\n",
    "    combined[((gradx == 1) & (dir_binary == 1))] = 1\n",
    "    # Plot the result\n",
    "    f, (ax1, ax2) = plt.subplots(1, 2, figsize=(24, 9))\n",
    "    f.tight_layout()\n",
    "    ax1.imshow(image)\n",
    "    ax1.set_title('Original Image', fontsize=50)\n",
    "    ax2.imshow(combined, cmap='gray')\n",
    "    ax2.set_title('Thresholded Grad. Combi2.', fontsize=50)\n",
    "    plt.subplots_adjust(left=0., right=1, top=0.9, bottom=0.)"
   ]
  },
  {
   "cell_type": "markdown",
   "metadata": {},
   "source": [
    "### Color Threthhold Implementation"
   ]
  },
  {
   "cell_type": "markdown",
   "metadata": {},
   "source": [
    "Firstly we glimpse the different channel in grey scale."
   ]
  },
  {
   "cell_type": "code",
   "execution_count": 65,
   "metadata": {
    "scrolled": true
   },
   "outputs": [],
   "source": [
    "def investigation_color_channels():\n",
    "    # Investigate the channel overview\n",
    "    img_cbi = mpimg.imread('test_images/test5.jpg')\n",
    "    img_cbi_r = img_cbi[:,:,0]\n",
    "    img_cbi_g = img_cbi[:,:,1]\n",
    "    img_cbi_b = img_cbi[:,:,2]\n",
    "\n",
    "    img_cbi_hls = cv2.cvtColor(img_cbi, cv2.COLOR_RGB2HLS)\n",
    "    img_cbi_h = img_cbi_hls[:,:,0]\n",
    "    img_cbi_l = img_cbi_hls[:,:,1]\n",
    "    img_cbi_s = img_cbi_hls[:,:,2]\n",
    "\n",
    "    fig0 = plt.figure()\n",
    "    ax0 = fig0.add_subplot(1, 1, 1)\n",
    "    ax0.imshow(img_cbi)\n",
    "    ax0.set_title('original image')\n",
    "\n",
    "    fig1, (ax1, ax2, ax3) = plt.subplots(1, 3, figsize=(24, 9))\n",
    "    fig1.tight_layout()\n",
    "    ax1.imshow(img_cbi_r, cmap='gray')\n",
    "    ax1.set_title('R Channel')\n",
    "    ax2.imshow(img_cbi_g, cmap='gray')\n",
    "    ax2.set_title('G Channel')\n",
    "    ax3.imshow(img_cbi_b, cmap='gray')\n",
    "    ax3.set_title('B Channel')\n",
    "    plt.savefig(dir_desti+'/'+'compareRGB.jpg')\n",
    "\n",
    "    fig2, (ax4, ax5, ax6) = plt.subplots(1, 3, figsize=(24, 9))\n",
    "    fig2.tight_layout()\n",
    "    ax4.imshow(img_cbi_h, cmap='gray')\n",
    "    ax4.set_title('H Channel')\n",
    "    ax5.imshow(img_cbi_l, cmap='gray')\n",
    "    ax5.set_title('L Channel')\n",
    "    ax6.imshow(img_cbi_s, cmap='gray')\n",
    "    ax6.set_title('S Channel')\n",
    "    plt.savefig(dir_desti+'/'+'compareHLS.jpg')\n"
   ]
  },
  {
   "cell_type": "markdown",
   "metadata": {},
   "source": [
    "With the observation of the different color channel, R, B, G.\n",
    "And the investigation of H, L, S, we can find the line color is distinct in R channel and S aspect."
   ]
  },
  {
   "cell_type": "markdown",
   "metadata": {},
   "source": [
    "secondly, we apply threshhold for the seperate channel.\n",
    "So we gain more knowledge about the performance."
   ]
  },
  {
   "cell_type": "code",
   "execution_count": 66,
   "metadata": {},
   "outputs": [],
   "source": [
    "# Define function for processing HLS threshhold and output a binary img\n",
    "def hls_select(img, thresh=(160, 255), channel='s'):\n",
    "    # 1) Convert to HLS color space\n",
    "    hls = cv2.cvtColor(img, cv2.COLOR_RGB2HLS)\n",
    "    # 2) Apply a threshold to the one channel\n",
    "    if channel=='h':\n",
    "        hls_one = hls[:,:,0]\n",
    "    elif channel=='l':\n",
    "        hls_one = hls[:,:,1]\n",
    "    else:\n",
    "        hls_one = hls[:,:,2]\n",
    "    binary_output = np.zeros_like(hls_one)\n",
    "    binary_output[(hls_one>thresh[0])&(hls_one<=thresh[1])]=1\n",
    "    # 3) Return a binary image of threshold result\n",
    "    return binary_output"
   ]
  },
  {
   "cell_type": "code",
   "execution_count": 67,
   "metadata": {
    "scrolled": false
   },
   "outputs": [],
   "source": [
    "def test_hls_select():\n",
    "    # Test the hls_select function\n",
    "    image = mpimg.imread('test_images/test5.jpg') \n",
    "    hls_binary = hls_select(image, thresh=(160, 255), channel='s')\n",
    "    # Plot the result\n",
    "    f, (ax1, ax2) = plt.subplots(1, 2, figsize=(24, 9))\n",
    "    f.tight_layout()\n",
    "    ax1.imshow(image)\n",
    "    ax1.set_title('Original Image', fontsize=50)\n",
    "    ax2.imshow(hls_binary, cmap='gray')\n",
    "    ax2.set_title('Thresholded S', fontsize=50)\n",
    "    plt.subplots_adjust(left=0., right=1, top=0.9, bottom=0.)"
   ]
  },
  {
   "cell_type": "code",
   "execution_count": 68,
   "metadata": {},
   "outputs": [],
   "source": [
    "# Define function for processing RGB threshhold and output a binary img\n",
    "def rgb_select(img, thresh=(160, 255), channel='r'):\n",
    "    # 1) Apply a threshold to the one channel\n",
    "    if channel=='b':\n",
    "        rgb_one = img[:,:,2]\n",
    "    elif channel=='g':\n",
    "        rgb_one = img[:,:,1]\n",
    "    else:\n",
    "        rgb_one = img[:,:,0]\n",
    "    binary_output = np.zeros_like(rgb_one)\n",
    "    binary_output[(rgb_one>thresh[0])&(rgb_one<=thresh[1])]=1\n",
    "    # 2) Return a binary image of threshold result\n",
    "    return binary_output"
   ]
  },
  {
   "cell_type": "code",
   "execution_count": 69,
   "metadata": {
    "scrolled": true
   },
   "outputs": [],
   "source": [
    "# Test the rgb_select function\n",
    "def test_rgb_select():\n",
    "    image = mpimg.imread('test_images/test5.jpg') \n",
    "    rgb_binary = rgb_select(image, thresh=(210, 255), channel='r')\n",
    "    # Plot the result\n",
    "    f, (ax1, ax2) = plt.subplots(1, 2, figsize=(24, 9))\n",
    "    f.tight_layout()\n",
    "    ax1.imshow(image)\n",
    "    ax1.set_title('Original Image', fontsize=50)\n",
    "    ax2.imshow(rgb_binary, cmap='gray')\n",
    "    ax2.set_title('Thresholded R', fontsize=50)\n",
    "    plt.subplots_adjust(left=0., right=1, top=0.9, bottom=0.)"
   ]
  },
  {
   "cell_type": "markdown",
   "metadata": {},
   "source": [
    "**Conclustion:**\n",
    "Thought the detailed investigation. We confirmed that the Threathhold in S and R channel can distinguish the lane line in the near field. And threshold of absolute gradient in x give a presentation of lane line in the far field."
   ]
  },
  {
   "cell_type": "markdown",
   "metadata": {},
   "source": [
    "Then we combine the Threathhold in S and gradien x for the further investigation."
   ]
  },
  {
   "cell_type": "code",
   "execution_count": 70,
   "metadata": {
    "scrolled": true
   },
   "outputs": [],
   "source": [
    "def test_combined_gradx_s():\n",
    "    # Choose a Sobel kernel size\n",
    "    ksize = 3 # Choose a larger odd number to smooth gradient measurements\n",
    "    # Choose a image\n",
    "\n",
    "    image = mpimg.imread('test_images/test5_undistort.jpg')\n",
    "\n",
    "    # Apply the thresholding functions in grad X\n",
    "    gradx = abs_sobel_thresh(image, orient='x', sobel_kernel=ksize, thresh_min=20, thresh_max=100)\n",
    "    hls_binary = hls_select(image, thresh=(160, 255), channel='s')\n",
    "\n",
    "    combined_gradx_s = np.zeros_like(gradx)\n",
    "    combined_gradx_s[((gradx == 1) | (hls_binary == 1))] = 1\n",
    "#     print(combined_gradx_s.shape)\n",
    "#     print(combined_gradx_s)\n",
    "\n",
    "    # Plot the result\n",
    "\n",
    "    # fig0 = plt.figure()\n",
    "    # ax0 = fig0.add_subplot(1, 1, 1)\n",
    "    cv2.imwrite('test_images/test5_threshold.jpg',combined_gradx_s*255)\n",
    "\n",
    "    f, (ax1, ax2) = plt.subplots(1, 2, figsize=(24, 9))\n",
    "    f.tight_layout()\n",
    "    ax1.imshow(image)\n",
    "    ax1.set_title('Original Image', fontsize=50)\n",
    "    ax2.imshow(combined_gradx_s, cmap='gray')\n",
    "    ax2.set_title('Thresholded Grad. Combi. GradX + S', fontsize=50)\n",
    "    plt.subplots_adjust(left=0., right=1, top=0.9, bottom=0.)"
   ]
  },
  {
   "cell_type": "code",
   "execution_count": 71,
   "metadata": {},
   "outputs": [],
   "source": [
    "# test_combined_gradx_s()"
   ]
  },
  {
   "cell_type": "markdown",
   "metadata": {},
   "source": [
    "### Perspective Transform"
   ]
  },
  {
   "cell_type": "code",
   "execution_count": 72,
   "metadata": {},
   "outputs": [],
   "source": [
    "# Function for perspective Transform\n",
    "# def thresh_warp(undist, nx, ny, mtx, dist):\n",
    "def thresh_warp(undist):\n",
    "    global Minv\n",
    "    img_size = (undist.shape[1], undist.shape[0])\n",
    "    src = np.float32(\n",
    "        [[(img_size[0] / 2) - 63, img_size[1] / 2 + 100],\n",
    "        [((img_size[0] / 6) - 20), img_size[1]],\n",
    "        [(img_size[0] * 5 / 6) + 60, img_size[1]],\n",
    "        [(img_size[0] / 2 + 65), img_size[1] / 2 + 100]])\n",
    "    dst = np.float32(\n",
    "        [[(img_size[0] / 4), 0],\n",
    "        [(img_size[0] / 4), img_size[1]],\n",
    "        [(img_size[0] * 3 / 4), img_size[1]],\n",
    "        [(img_size[0] * 3 / 4), 0]])\n",
    "\n",
    "    M = cv2.getPerspectiveTransform(src, dst)\n",
    "    warped = cv2.warpPerspective(undist, M, img_size, flags= cv2.INTER_LINEAR) \n",
    "    Minv = cv2.getPerspectiveTransform(dst, src)\n",
    "\n",
    "    return warped, M"
   ]
  },
  {
   "cell_type": "code",
   "execution_count": 73,
   "metadata": {
    "scrolled": false
   },
   "outputs": [],
   "source": [
    "# test the thresh_warp function\n",
    "def test_thresh_warp():\n",
    "    img = cv2.imread('test_images/test5_threshold.jpg')\n",
    "    nx = 9 # the number of inside corners in x\n",
    "    ny = 6 # the number of inside corners in y\n",
    "\n",
    "    #read the pickle file\n",
    "    picklefile = open(dir_source+\"/wide_dist_pickle.p\", \"rb\")\n",
    "    dist_pickle = pickle.load(picklefile)\n",
    "    picklefile.close()\n",
    "    mtx = dist_pickle[\"mtx\"]\n",
    "    dist = dist_pickle[\"dist\"]\n",
    "\n",
    "#     top_down, perspective_M = thresh_warp(img, nx, ny, mtx, dist)\n",
    "    top_down, perspective_M = thresh_warp(img)\n",
    "#     print(top_down.shape)\n",
    "    f, (ax1, ax2) = plt.subplots(1, 2, figsize=(24, 9))\n",
    "    f.tight_layout()\n",
    "    ax1.imshow(img)\n",
    "    ax1.set_title('Original Image', fontsize=50)\n",
    "    ax2.imshow(top_down)\n",
    "    ax2.set_title('Undistorted and Warped Image', fontsize=50)\n",
    "    plt.subplots_adjust(left=0., right=1, top=0.9, bottom=0.)\n",
    "    cv2.imwrite('test_images/test5_pers_trans.jpg',top_down)\n",
    "    print(top_down.shape)"
   ]
  },
  {
   "cell_type": "code",
   "execution_count": 74,
   "metadata": {},
   "outputs": [],
   "source": [
    "# test_thresh_warp()"
   ]
  },
  {
   "cell_type": "markdown",
   "metadata": {},
   "source": [
    "## Lane Searching"
   ]
  },
  {
   "cell_type": "markdown",
   "metadata": {},
   "source": [
    "### Polynomial fit according to the pixels"
   ]
  },
  {
   "cell_type": "code",
   "execution_count": 75,
   "metadata": {},
   "outputs": [],
   "source": [
    "def find_lane_pixels(thresh):\n",
    "    # Take a histogram of the bottom half of the image\n",
    "    if len(thresh.shape)>2:\n",
    "        binary_warped = cv2.cvtColor(thresh, cv2.COLOR_RGB2GRAY)\n",
    "    else:\n",
    "        binary_warped = thresh\n",
    "    histogram = np.sum(binary_warped[binary_warped.shape[0]//2:,:], axis=0)\n",
    "    # Create an output image to draw on and visualize the result\n",
    "    out_img = np.dstack((binary_warped, binary_warped, binary_warped))\n",
    "    # Find the peak of the left and right halves of the histogram\n",
    "    # These will be the starting point for the left and right lines\n",
    "    midpoint = np.int(histogram.shape[0]//2)\n",
    "    leftx_base = np.argmax(histogram[:midpoint])\n",
    "    rightx_base = np.argmax(histogram[midpoint:]) + midpoint\n",
    "\n",
    "    # HYPERPARAMETERS\n",
    "    # Choose the number of sliding windows\n",
    "    nwindows = 9\n",
    "    # Set the width of the windows +/- margin\n",
    "    margin = 100\n",
    "    # Set minimum number of pixels found to recenter window\n",
    "    minpix = 50\n",
    "\n",
    "    # Set height of windows - based on nwindows above and image shape\n",
    "    window_height = np.int(binary_warped.shape[0]//nwindows)\n",
    "    # Identify the x and y positions of all nonzero pixels in the image\n",
    "    nonzero = binary_warped.nonzero()\n",
    "    nonzeroy = np.array(nonzero[0])\n",
    "    nonzerox = np.array(nonzero[1])\n",
    "    # Current positions to be updated later for each window in nwindows\n",
    "    leftx_current = leftx_base\n",
    "    rightx_current = rightx_base\n",
    "\n",
    "    # Create empty lists to receive left and right lane pixel indices\n",
    "    left_lane_inds = []\n",
    "    right_lane_inds = []\n",
    "\n",
    "    # Step through the windows one by one\n",
    "    for window in range(nwindows):\n",
    "        # Identify window boundaries in x and y (and right and left)\n",
    "        win_y_low = binary_warped.shape[0] - (window+1)*window_height\n",
    "        win_y_high = binary_warped.shape[0] - window*window_height\n",
    "        win_xleft_low = leftx_current - margin\n",
    "        win_xleft_high = leftx_current + margin\n",
    "        win_xright_low = rightx_current - margin\n",
    "        win_xright_high = rightx_current + margin\n",
    "        \n",
    "        # Draw the windows on the visualization image\n",
    "        cv2.rectangle(out_img,(win_xleft_low,win_y_low),\n",
    "                      (win_xleft_high,win_y_high),(0,255,0), 2) \n",
    "        cv2.rectangle(out_img,(win_xright_low,win_y_low),\n",
    "                      (win_xright_high,win_y_high),(0,255,0), 2) \n",
    "        \n",
    "        # Identify the nonzero pixels in x and y within the window #\n",
    "        good_left_inds = ((nonzeroy >= win_y_low) & (nonzeroy < win_y_high) & \n",
    "        (nonzerox >= win_xleft_low) &  (nonzerox < win_xleft_high)).nonzero()[0]\n",
    "        good_right_inds = ((nonzeroy >= win_y_low) & (nonzeroy < win_y_high) & \n",
    "        (nonzerox >= win_xright_low) &  (nonzerox < win_xright_high)).nonzero()[0]\n",
    "        \n",
    "        # Append these indices to the lists\n",
    "        left_lane_inds.append(good_left_inds)\n",
    "        right_lane_inds.append(good_right_inds)\n",
    "        \n",
    "        # If you found > minpix pixels, recenter next window on their mean position\n",
    "        if len(good_left_inds) > minpix:\n",
    "            leftx_current = np.int(np.mean(nonzerox[good_left_inds]))\n",
    "        if len(good_right_inds) > minpix:        \n",
    "            rightx_current = np.int(np.mean(nonzerox[good_right_inds]))\n",
    "\n",
    "    # Concatenate the arrays of indices (previously was a list of lists of pixels)\n",
    "    try:\n",
    "        left_lane_inds = np.concatenate(left_lane_inds)\n",
    "        right_lane_inds = np.concatenate(right_lane_inds)\n",
    "    except ValueError:\n",
    "        # Avoids an error if the above is not implemented fully\n",
    "        pass\n",
    "\n",
    "    # Extract left and right line pixel positions\n",
    "    leftx = nonzerox[left_lane_inds]\n",
    "    lefty = nonzeroy[left_lane_inds] \n",
    "    rightx = nonzerox[right_lane_inds]\n",
    "    righty = nonzeroy[right_lane_inds]\n",
    "\n",
    "    return leftx, lefty, rightx, righty, out_img\n",
    "\n",
    "\n",
    "def fit_polynomial(binary_warped):\n",
    "    # Find our lane pixels first\n",
    "    leftx, lefty, rightx, righty, out_img = find_lane_pixels(binary_warped)\n",
    "\n",
    "    # Fit a second order polynomial to each using `np.polyfit`\n",
    "    left_fit = np.polyfit(lefty, leftx, 2)\n",
    "    right_fit = np.polyfit(righty, rightx, 2)\n",
    "\n",
    "    # Generate x and y values for plotting\n",
    "    ploty = np.linspace(0, binary_warped.shape[0]-1, binary_warped.shape[0] )\n",
    "    try:\n",
    "        left_fitx = left_fit[0]*ploty**2 + left_fit[1]*ploty + left_fit[2]\n",
    "        right_fitx = right_fit[0]*ploty**2 + right_fit[1]*ploty + right_fit[2]\n",
    "    except TypeError:\n",
    "        # Avoids an error if `left` and `right_fit` are still none or incorrect\n",
    "        print('The function failed to fit a line!')\n",
    "        left_fitx = 1*ploty**2 + 1*ploty\n",
    "        right_fitx = 1*ploty**2 + 1*ploty\n",
    "    return left_fitx, right_fitx, ploty, leftx, lefty, rightx, righty"
   ]
  },
  {
   "cell_type": "code",
   "execution_count": 107,
   "metadata": {},
   "outputs": [],
   "source": [
    "## check deviation\n",
    "def sanity_check(left_curverad, right_curverad, left_lane_pos, right_lane_pos):\n",
    "    if not (2 > left_curverad / right_curverad > 0.5):\n",
    "        return 1\n",
    "    if abs(right_lane_pos-left_lane_pos)>4.5 or abs(right_lane_pos-left_lane_pos)<3:\n",
    "        return 2\n",
    "    return 0"
   ]
  },
  {
   "cell_type": "code",
   "execution_count": 77,
   "metadata": {
    "scrolled": true
   },
   "outputs": [],
   "source": [
    "def test_fit_polynomial_find_lane_pixels():\n",
    "    # Test the function fit_polynomial, find_lane_pixels\n",
    "    thresh = mpimg.imread('test_images/test5_pers_trans.jpg')\n",
    "    left_fitx, right_fitx, ploty = fit_polynomial(thresh)\n",
    "    ## Visualization ##\n",
    "    # Colors in the left and right lane regions\n",
    "    out_img[lefty, leftx] = [255, 0, 0]\n",
    "    out_img[righty, rightx] = [0, 0, 255]\n",
    "\n",
    "    # Plots the left and right polynomials on the lane lines\n",
    "    plt.plot(left_fitx, ploty, color='yellow')\n",
    "    plt.plot(right_fitx, ploty, color='yellow')\n",
    "    plt.imshow(out_img)\n",
    "    # plt.savefig('test_images/test5_draw_rechtangle.jpg')"
   ]
  },
  {
   "cell_type": "code",
   "execution_count": 78,
   "metadata": {
    "scrolled": false
   },
   "outputs": [],
   "source": [
    "# test_fit_polynomial_find_lane_pixels()"
   ]
  },
  {
   "cell_type": "markdown",
   "metadata": {},
   "source": [
    "#### Calculation of the curvature"
   ]
  },
  {
   "cell_type": "code",
   "execution_count": 79,
   "metadata": {},
   "outputs": [],
   "source": [
    "# Define conversions in x and y from pixels space to meters\n",
    "ym_per_pix = 30/720 # meters per pixel in y dimension\n",
    "xm_per_pix = 3.7/700 # meters per pixel in x dimension"
   ]
  },
  {
   "cell_type": "code",
   "execution_count": 80,
   "metadata": {
    "scrolled": true
   },
   "outputs": [],
   "source": [
    "def measure_curvature_offset(thresh, leftx, lefty, rightx, righty):\n",
    "    '''\n",
    "    Calculates the curvature of polynomial functions in pixels.\n",
    "    '''\n",
    "\n",
    "\n",
    "    # Fit a second order polynomial to each using `np.polyfit`\n",
    "    left_fit = np.polyfit(lefty*ym_per_pix, leftx*xm_per_pix, 2)\n",
    "    right_fit = np.polyfit(righty*ym_per_pix, rightx*xm_per_pix, 2)\n",
    "    \n",
    "    # Define y-value where we want radius of curvature\n",
    "    # We'll choose the maximum y-value, corresponding to the bottom of the image\n",
    "    y_eval = np.max(thresh.shape[0]*ym_per_pix//2)\n",
    "    \n",
    "    # Calculation of R_curve (radius of curvature)\n",
    "    left_curverad = ((1 + (2*left_fit[0]*y_eval + left_fit[1])**2)**1.5) / np.absolute(2*left_fit[0])\n",
    "    right_curverad = ((1 + (2*right_fit[0]*y_eval + right_fit[1])**2)**1.5) / np.absolute(2*right_fit[0])\n",
    "    \n",
    "    # Calculation of offset\n",
    "    y_eval_near = np.max((thresh.shape[0]-1)*ym_per_pix)\n",
    "    left_near_lane = np.poly1d(left_fit)(y_eval_near)\n",
    "    right_near_lane = np.poly1d(right_fit)(y_eval_near)\n",
    "\n",
    "    lane_centor = (left_near_lane + right_near_lane) / 2\n",
    "    image_centor = (thresh.shape[1]-1) * xm_per_pix / 2\n",
    "\n",
    "    offset = lane_centor - image_centor\n",
    "    \n",
    "    return left_curverad, right_curverad, offset"
   ]
  },
  {
   "cell_type": "code",
   "execution_count": 81,
   "metadata": {},
   "outputs": [],
   "source": [
    "# Test the function measure_curvature_pixels\n",
    "# TODO why measure_curvature_offset takes 0 argument\n",
    "def test_measure_curvature_offset():\n",
    "    thresh = mpimg.imread('test_images/test5_pers_trans.jpg')\n",
    "    leftx, lefty, rightx, righty, out_img = find_lane_pixels(thresh)\n",
    "    # Calculate the radius of curvature in pixels for both lane lines\n",
    "#     left_curverad, right_curverad, offset = measure_curvature_offset(thresh, leftx, lefty, rightx, righty)\n",
    "    left_curverad, right_curverad, offset = measure_curvature_offset(thresh, leftx, lefty, rightx, righty)\n",
    "    print(left_curverad, 'm', right_curverad, 'm', offset, 'm')"
   ]
  },
  {
   "cell_type": "code",
   "execution_count": 82,
   "metadata": {
    "scrolled": true
   },
   "outputs": [],
   "source": [
    "# test_measure_curvature_offset()"
   ]
  },
  {
   "cell_type": "markdown",
   "metadata": {},
   "source": [
    "## Video Generation"
   ]
  },
  {
   "cell_type": "code",
   "execution_count": 83,
   "metadata": {},
   "outputs": [],
   "source": [
    "from moviepy.editor import VideoFileClip\n",
    "from IPython.display import HTML"
   ]
  },
  {
   "cell_type": "code",
   "execution_count": 84,
   "metadata": {},
   "outputs": [],
   "source": [
    "def put_lane_info_on_video(image, left_curverad, right_curverad, offset):\n",
    "    \"\"\"project the fited lane information to the image\n",
    "    use last 15 frame average data to avoid the number quick jump on screen.\n",
    "    \"\"\"\n",
    "    color=(0,200,255)\n",
    "    offset = float(format(offset, '.3f'))\n",
    "    curverad = format(left_curverad, '.3f')\n",
    "    left_right = \"right\" if offset < 0 else \"left\"\n",
    "    info_curv = \"Curve Radius is {}(m)\".format(curverad)\n",
    "    info_offs = \"Offset is {0:.2f}m \".format(abs(offset)) + \"{} of the center\".format(left_right)\n",
    "    cv2.putText(image, info_curv, (50,60), cv2.FONT_HERSHEY_SIMPLEX,2,color,2)\n",
    "    cv2.putText(image, info_offs, (50,120), cv2.FONT_HERSHEY_SIMPLEX,2,color,2)\n",
    "    return image"
   ]
  },
  {
   "cell_type": "code",
   "execution_count": 85,
   "metadata": {},
   "outputs": [],
   "source": [
    "def drawing_area(birdeye_thresh_warped, ori_image, left_fitx, right_fitx, ploty):\n",
    "    \n",
    "#     ori_image = ori_image = mpimg.imread(image) # changed for video\n",
    "    \n",
    "    # Create an image to draw the lines on\n",
    "#     warp_zero = np.zeros((720,1280)).astype(np.uint8)\n",
    "    warp_zero = np.zeros_like(birdeye_thresh_warped).astype(np.uint8)\n",
    "    color_warp = np.dstack((warp_zero, warp_zero, warp_zero))\n",
    "    \n",
    "    # Recast the x and y points into usable format for cv2.fillPoly()\n",
    "    pts_left = np.array([np.transpose(np.vstack([left_fitx, ploty]))])\n",
    "    pts_right = np.array([np.flipud(np.transpose(np.vstack([right_fitx, ploty])))])\n",
    "    pts = np.hstack((pts_left, pts_right))\n",
    "\n",
    "    # Draw the lane onto the warped blank image\n",
    "    cv2.fillPoly(color_warp, np.int_([pts]), (0,255, 0))\n",
    "\n",
    "    # Warp the blank back to original image space using inverse perspective matrix (Minv)\n",
    "    newwarp = cv2.warpPerspective(color_warp, Minv, (ori_image.shape[1], ori_image.shape[0])) \n",
    "    \n",
    "    # Combine the result with the original image\n",
    "    result = cv2.addWeighted(ori_image, 1, newwarp, 0.3, 0)\n",
    "    return result"
   ]
  },
  {
   "cell_type": "code",
   "execution_count": 86,
   "metadata": {
    "scrolled": true
   },
   "outputs": [],
   "source": [
    "# # test drawing and output the result on img\n",
    "# thresh = mpimg.imread('test_images/test5_pers_trans.jpg')\n",
    "    \n",
    "# ori_image = mpimg.imread('test_images/test5.jpg')\n",
    "# left_fitx, right_fitx, ploty = fit_polynomial(thresh)\n",
    "    \n",
    "# warp_zero = np.zeros((720,1280)).astype(np.uint8)\n",
    "# color_warp = np.dstack((warp_zero, warp_zero, warp_zero))\n",
    "\n",
    "#     # Recast the x and y points into usable format for cv2.fillPoly()\n",
    "# pts_left = np.array([np.transpose(np.vstack([left_fitx, ploty]))])\n",
    "# pts_right = np.array([np.flipud(np.transpose(np.vstack([right_fitx, ploty])))])\n",
    "# pts = np.hstack((pts_left, pts_right))\n",
    "\n",
    "#     # Draw the lane onto the warped blank image\n",
    "# cv2.fillPoly(color_warp, np.int_([pts]), (0,255, 0))\n",
    "\n",
    "#     # Warp the blank back to original image space using inverse perspective matrix (Minv)\n",
    "# newwarp = cv2.warpPerspective(color_warp, Minv, (ori_image.shape[1], ori_image.shape[0])) \n",
    "#     # Combine the result with the original image\n",
    "# result = cv2.addWeighted(ori_image, 1, newwarp, 0.3, 0)\n",
    "# color=(0,200,255)\n",
    "# cv2.putText(result, ' 1000', (50,60), cv2.FONT_HERSHEY_SIMPLEX,2,color,2)\n",
    "# plt.imshow(result)\n",
    "# # plt.savefig('test_images/test5_lane_area_draw.jpg')"
   ]
  },
  {
   "cell_type": "markdown",
   "metadata": {},
   "source": [
    "## Pipeline"
   ]
  },
  {
   "cell_type": "code",
   "execution_count": 87,
   "metadata": {},
   "outputs": [],
   "source": [
    "def undistortion_conduct2(img):\n",
    "    # Step through the list and search for chessboard corners\n",
    "#     img = cv2.imread(ori_image) # changed for video\n",
    "    undistort = cv2.undistort(img, mtx, dist, None, mtx)\n",
    "    return undistort"
   ]
  },
  {
   "cell_type": "code",
   "execution_count": 88,
   "metadata": {},
   "outputs": [],
   "source": [
    "def combined_gradx_s(image, ksize = 3):\n",
    "    gradx = abs_sobel_thresh(image, orient='x', sobel_kernel=ksize, thresh_min=20, thresh_max=100)\n",
    "    hls_binary = hls_select(image, thresh=(160, 255), channel='s')\n",
    "    combined_gradx_s = np.zeros_like(gradx)\n",
    "    combined_gradx_s[((gradx == 1) | (hls_binary == 1))] = 1\n",
    "    return combined_gradx_s"
   ]
  },
  {
   "cell_type": "code",
   "execution_count": 89,
   "metadata": {},
   "outputs": [],
   "source": [
    "# def finding_lanes_pipeline(ori_image):\n",
    "#     global mtx, dist\n",
    "#     # Make the data ready, which is used for the transformation\n",
    "#     pickle_file = open('camera_cal/wide_dist_pickle.p', 'rb')\n",
    "#     dist_pickle=pickle.load(pickle_file)\n",
    "#     pickle_file.close()\n",
    "#     mtx = dist_pickle[\"mtx\"]\n",
    "#     dist = dist_pickle[\"dist\"]\n",
    "#     # transform the distorted image\n",
    "#     undistort = undistortion_conduct2(ori_image)\n",
    "#     # use gradient methode\n",
    "#     thresh = combined_gradx_s(undistort, ksize = 3)\n",
    "#     # perspective transform \n",
    "# #     birdeye_thresh_warped, perspective_M = thresh_warp(thresh, 9, 6, mtx, dist)\n",
    "#     birdeye_thresh_warped, perspective_M = thresh_warp(thresh)\n",
    "#     # generate polynomial based on the pixels\n",
    "#     left_fitx, right_fitx, ploty, leftx, lefty, rightx, righty = fit_polynomial(birdeye_thresh_warped)\n",
    "#     left_curverad, right_curverad, offset = measure_curvature_offset(birdeye_thresh_warped, leftx, lefty, rightx, righty)\n",
    "# #     drawed = drawing_area(birdeye_thresh_warped, ori_image, left_fitx, right_fitx, ploty)\n",
    "#     drawed = drawing_area(birdeye_thresh_warped, undistort, left_fitx, right_fitx, ploty) # changed to use the undistorted frames as output for more accurate results\n",
    "#     put_lane_info_on_video(drawed, left_curverad, right_curverad, offset)\n",
    "# #     birdeye_thresh_warped_expa = np.expand_dims(birdeye_thresh_warped, axis=2)\n",
    "#     birdeye_thresh_warped_expa = np.stack((birdeye_thresh_warped,birdeye_thresh_warped,birdeye_thresh_warped), axis=2)\n",
    "#     print(drawed.shape)\n",
    "#     print(birdeye_thresh_warped_expa.shape)\n",
    "#     return drawed"
   ]
  },
  {
   "cell_type": "code",
   "execution_count": 90,
   "metadata": {},
   "outputs": [],
   "source": [
    "def find_lane_base_real(left_fitx, right_fitx, img_shape):\n",
    "    left_lane_pos = (left_fitx[-1] - img_shape[1]*0.5) * xm_per_pix\n",
    "    right_lane_pos = (right_fitx[-1] - img_shape[1]*0.5) * xm_per_pix   \n",
    "    return left_lane_pos, right_lane_pos"
   ]
  },
  {
   "cell_type": "code",
   "execution_count": 112,
   "metadata": {},
   "outputs": [],
   "source": [
    "# try to add binary image\n",
    "def finding_lanes_pipeline(ori_image):\n",
    "    global mtx, dist, left_fitx_valid, right_fitx_valid, left_curverad_valid, right_curverad_valid, offset_valid\n",
    "    # Make the data ready, which is used for the transformation\n",
    "    pickle_file = open('camera_cal/wide_dist_pickle.p', 'rb')\n",
    "    dist_pickle=pickle.load(pickle_file)\n",
    "    pickle_file.close()\n",
    "    mtx = dist_pickle[\"mtx\"]\n",
    "    dist = dist_pickle[\"dist\"]\n",
    "    # transform the distorted image\n",
    "    undistort = undistortion_conduct2(ori_image)\n",
    "    # use gradient methode\n",
    "    thresh = combined_gradx_s(undistort, ksize = 3)\n",
    "    # perspective transform \n",
    "#     birdeye_thresh_warped, perspective_M = thresh_warp(thresh, 9, 6, mtx, dist)\n",
    "    birdeye_thresh_warped, perspective_M = thresh_warp(thresh)\n",
    "    # generate polynomial based on the pixels\n",
    "    left_fitx, right_fitx, ploty, leftx, lefty, rightx, righty = fit_polynomial(birdeye_thresh_warped)\n",
    "    left_curverad, right_curverad, offset = measure_curvature_offset(birdeye_thresh_warped, leftx, lefty, rightx, righty)\n",
    "    left_lane_pos, right_lane_pos = find_lane_base_real(left_fitx, right_fitx, birdeye_thresh_warped.shape)\n",
    "    valid = sanity_check(left_curverad, right_curverad, left_lane_pos, right_lane_pos)\n",
    "#     print(\"left_curverad is: \", left_curverad)\n",
    "#     print(\"right_curverad is: \", right_curverad)\n",
    "#     print(\"left_lane_pos is: \", left_lane_pos)\n",
    "#     print(\"right_lane_pos is: \", right_lane_pos)\n",
    "#     print(valid)\n",
    "#     drawed = drawing_area(birdeye_thresh_warped, ori_image, left_fitx, right_fitx, ploty)\n",
    "    if(valid==0):\n",
    "        left_fitx_valid = left_fitx \n",
    "        right_fitx_valid = right_fitx\n",
    "        left_curverad_valid = left_curverad \n",
    "        right_curverad_valid = right_curverad\n",
    "        offset_valid = offset\n",
    "    drawed = drawing_area(birdeye_thresh_warped, undistort, left_fitx_valid, right_fitx_valid, ploty) # changed to use the undistorted frames as output for more accurate results\n",
    "    put_lane_info_on_video(drawed, left_curverad_valid, right_curverad_valid, offset_valid)       \n",
    "    birdeye_thresh_warped_expa = np.stack((birdeye_thresh_warped,birdeye_thresh_warped,birdeye_thresh_warped), axis=2)\n",
    "    birdeye_thresh_warped_expa *= 255\n",
    "#     plt.imshow(birdeye_thresh_warped)\n",
    "#     print(undistort.shape)\n",
    "    combi_stack = np.vstack((birdeye_thresh_warped_expa,drawed))\n",
    "    return combi_stack"
   ]
  },
  {
   "cell_type": "code",
   "execution_count": 110,
   "metadata": {
    "scrolled": false
   },
   "outputs": [
    {
     "name": "stdout",
     "output_type": "stream",
     "text": [
      "left_curverad is:  1324.64732996\n",
      "right_curverad is:  792.241203821\n",
      "left_lane_pos is:  -1.47260780051\n",
      "right_lane_pos is:  1.93462772053\n",
      "0\n"
     ]
    },
    {
     "data": {
      "text/plain": [
       "<matplotlib.image.AxesImage at 0x7f40a2edfa20>"
      ]
     },
     "execution_count": 110,
     "metadata": {},
     "output_type": "execute_result"
    },
    {
     "data": {
      "image/png": "[encoded data removed]",
      "text/plain": [
       "<matplotlib.figure.Figure at 0x7f40a2fad668>"
      ]
     },
     "metadata": {
      "needs_background": "light"
     },
     "output_type": "display_data"
    }
   ],
   "source": [
    "plt.imshow(finding_lanes_pipeline(mpimg.imread('test_images/test6.jpg')))"
   ]
  },
  {
   "cell_type": "markdown",
   "metadata": {},
   "source": [
    "## Test on Video and Generate result"
   ]
  },
  {
   "cell_type": "code",
   "execution_count": 115,
   "metadata": {
    "scrolled": true
   },
   "outputs": [
    {
     "name": "stdout",
     "output_type": "stream",
     "text": [
      "[MoviePy] >>>> Building video test_videos_output/challenge_video.mp4\n",
      "[MoviePy] Writing video test_videos_output/challenge_video.mp4\n"
     ]
    },
    {
     "name": "stderr",
     "output_type": "stream",
     "text": [
      "100%|██████████| 485/485 [01:50<00:00,  4.35it/s]\n"
     ]
    },
    {
     "name": "stdout",
     "output_type": "stream",
     "text": [
      "[MoviePy] Done.\n",
      "[MoviePy] >>>> Video ready: test_videos_output/challenge_video.mp4 \n",
      "\n",
      "CPU times: user 43.6 s, sys: 7.68 s, total: 51.3 s\n",
      "Wall time: 1min 54s\n"
     ]
    }
   ],
   "source": [
    "# for project_video.mp4\n",
    "white_output = 'test_videos_output/project_video.mp4'\n",
    "# clip1 = VideoFileClip(\"project_video.mp4\").subclip(41,43)\n",
    "clip1 = VideoFileClip(\"project_video.mp4\")\n",
    "\n",
    "# # for challenge_video.mp4\n",
    "# white_output = 'test_videos_output/challenge_video.mp4'\n",
    "# # clip1 = VideoFileClip(\"challenge_video.mp4\").subclip(0,5)\n",
    "# clip1 = VideoFileClip(\"challenge_video.mp4\")\n",
    "\n",
    "white_clip = clip1.fl_image(finding_lanes_pipeline)\n",
    "%time white_clip.write_videofile(white_output, audio=False)"
   ]
  },
  {
   "cell_type": "code",
   "execution_count": null,
   "metadata": {},
   "outputs": [],
   "source": [
    "# HTML(\"\"\"\n",
    "# <video width=\"960\" height=\"540\" controls>\n",
    "#   <source src=\"{0}\">\n",
    "# </video>\n",
    "# \"\"\".format(white_output))"
   ]
  },
  {
   "cell_type": "markdown",
   "metadata": {},
   "source": [
    "### Outlook, potential improvement"
   ]
  },
  {
   "cell_type": "code",
   "execution_count": null,
   "metadata": {},
   "outputs": [],
   "source": [
    "# # Define a class to receive the characteristics of each line detection\n",
    "# class Line():\n",
    "#     def __init__(self):\n",
    "#         # was the line detected in the last iteration?\n",
    "#         self.detected = False  \n",
    "#         # x values of the last n fits of the line\n",
    "#         self.recent_xfitted = [] \n",
    "#         #average x values of the fitted line over the last n iterations\n",
    "#         self.bestx = None     \n",
    "#         #polynomial coefficients averaged over the last n iterations\n",
    "#         self.best_fit = None  \n",
    "#         #polynomial coefficients for the most recent fit\n",
    "#         self.current_fit = [np.array([False])]  \n",
    "#         #radius of curvature of the line in some units\n",
    "#         self.radius_of_curvature = None \n",
    "#         #distance in meters of vehicle center from the line\n",
    "#         self.line_base_pos = None \n",
    "#         #difference in fit coefficients between last and new fits\n",
    "#         self.diffs = np.array([0,0,0], dtype='float') \n",
    "#         #x values for detected line pixels\n",
    "#         self.allx = None  \n",
    "#         #y values for detected line"
   ]
  }
 ],
 "metadata": {
  "kernelspec": {
   "display_name": "Python 3",
   "language": "python",
   "name": "python3"
  },
  "language_info": {
   "codemirror_mode": {
    "name": "ipython",
    "version": 3
   },
   "file_extension": ".py",
   "mimetype": "text/x-python",
   "name": "python",
   "nbconvert_exporter": "python",
   "pygments_lexer": "ipython3",
   "version": "3.6.3"
  }
 },
 "nbformat": 4,
 "nbformat_minor": 2
}
